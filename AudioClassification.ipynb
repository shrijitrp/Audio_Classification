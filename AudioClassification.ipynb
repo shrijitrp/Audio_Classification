{
 "cells": [
  {
   "cell_type": "code",
   "execution_count": 114,
   "metadata": {},
   "outputs": [],
   "source": [
    "import pandas as pd\n",
    "import numpy as np\n",
    "import librosa\n",
    "import os\n",
    "import tensorflow as tf\n",
    "from tensorflow.keras.models import Sequential\n",
    "from tensorflow.keras.layers import Activation ,Dense ,Dropout,Flatten\n",
    "from tqdm import tqdm\n",
    "from sklearn.model_selection import train_test_split\n",
    "from sklearn.preprocessing import LabelEncoder"
   ]
  },
  {
   "cell_type": "code",
   "execution_count": 7,
   "metadata": {},
   "outputs": [],
   "source": [
    "file = \"F:/Git_projects/audio_classification/UrbanSound8K/17578-5-0-2.wav\"\n",
    "metadata = pd.read_csv(\"F:/Git_projects/audio_classification/UrbanSound8K/metadata/UrbanSound8K.csv\")\n",
    "file_path = \"F:\\Git_projects/audio_classification/UrbanSound8K/audio\""
   ]
  },
  {
   "cell_type": "code",
   "execution_count": 8,
   "metadata": {},
   "outputs": [],
   "source": [
    "def feature_extractor(file):\n",
    "    audio_data,sample_rate = librosa.load(file, res_type = 'kaiser_fast')\n",
    "    temp = librosa.feature.mfcc( y =audio_data, sr = sample_rate, n_mfcc = 40)\n",
    "    mfcc_scaled = np.mean(temp.T,axis = 0)\n",
    "    return mfcc_scaled"
   ]
  },
  {
   "cell_type": "code",
   "execution_count": 9,
   "metadata": {},
   "outputs": [
    {
     "data": {
      "text/html": [
       "<div>\n",
       "<style scoped>\n",
       "    .dataframe tbody tr th:only-of-type {\n",
       "        vertical-align: middle;\n",
       "    }\n",
       "\n",
       "    .dataframe tbody tr th {\n",
       "        vertical-align: top;\n",
       "    }\n",
       "\n",
       "    .dataframe thead th {\n",
       "        text-align: right;\n",
       "    }\n",
       "</style>\n",
       "<table border=\"1\" class=\"dataframe\">\n",
       "  <thead>\n",
       "    <tr style=\"text-align: right;\">\n",
       "      <th></th>\n",
       "      <th>slice_file_name</th>\n",
       "      <th>fsID</th>\n",
       "      <th>start</th>\n",
       "      <th>end</th>\n",
       "      <th>salience</th>\n",
       "      <th>fold</th>\n",
       "      <th>classID</th>\n",
       "      <th>class</th>\n",
       "    </tr>\n",
       "  </thead>\n",
       "  <tbody>\n",
       "    <tr>\n",
       "      <th>0</th>\n",
       "      <td>100032-3-0-0.wav</td>\n",
       "      <td>100032</td>\n",
       "      <td>0.000000</td>\n",
       "      <td>0.317551</td>\n",
       "      <td>1</td>\n",
       "      <td>5</td>\n",
       "      <td>3</td>\n",
       "      <td>dog_bark</td>\n",
       "    </tr>\n",
       "    <tr>\n",
       "      <th>1</th>\n",
       "      <td>100263-2-0-117.wav</td>\n",
       "      <td>100263</td>\n",
       "      <td>58.500000</td>\n",
       "      <td>62.500000</td>\n",
       "      <td>1</td>\n",
       "      <td>5</td>\n",
       "      <td>2</td>\n",
       "      <td>children_playing</td>\n",
       "    </tr>\n",
       "    <tr>\n",
       "      <th>2</th>\n",
       "      <td>100263-2-0-121.wav</td>\n",
       "      <td>100263</td>\n",
       "      <td>60.500000</td>\n",
       "      <td>64.500000</td>\n",
       "      <td>1</td>\n",
       "      <td>5</td>\n",
       "      <td>2</td>\n",
       "      <td>children_playing</td>\n",
       "    </tr>\n",
       "    <tr>\n",
       "      <th>3</th>\n",
       "      <td>100263-2-0-126.wav</td>\n",
       "      <td>100263</td>\n",
       "      <td>63.000000</td>\n",
       "      <td>67.000000</td>\n",
       "      <td>1</td>\n",
       "      <td>5</td>\n",
       "      <td>2</td>\n",
       "      <td>children_playing</td>\n",
       "    </tr>\n",
       "    <tr>\n",
       "      <th>4</th>\n",
       "      <td>100263-2-0-137.wav</td>\n",
       "      <td>100263</td>\n",
       "      <td>68.500000</td>\n",
       "      <td>72.500000</td>\n",
       "      <td>1</td>\n",
       "      <td>5</td>\n",
       "      <td>2</td>\n",
       "      <td>children_playing</td>\n",
       "    </tr>\n",
       "    <tr>\n",
       "      <th>...</th>\n",
       "      <td>...</td>\n",
       "      <td>...</td>\n",
       "      <td>...</td>\n",
       "      <td>...</td>\n",
       "      <td>...</td>\n",
       "      <td>...</td>\n",
       "      <td>...</td>\n",
       "      <td>...</td>\n",
       "    </tr>\n",
       "    <tr>\n",
       "      <th>8727</th>\n",
       "      <td>99812-1-2-0.wav</td>\n",
       "      <td>99812</td>\n",
       "      <td>159.522205</td>\n",
       "      <td>163.522205</td>\n",
       "      <td>2</td>\n",
       "      <td>7</td>\n",
       "      <td>1</td>\n",
       "      <td>car_horn</td>\n",
       "    </tr>\n",
       "    <tr>\n",
       "      <th>8728</th>\n",
       "      <td>99812-1-3-0.wav</td>\n",
       "      <td>99812</td>\n",
       "      <td>181.142431</td>\n",
       "      <td>183.284976</td>\n",
       "      <td>2</td>\n",
       "      <td>7</td>\n",
       "      <td>1</td>\n",
       "      <td>car_horn</td>\n",
       "    </tr>\n",
       "    <tr>\n",
       "      <th>8729</th>\n",
       "      <td>99812-1-4-0.wav</td>\n",
       "      <td>99812</td>\n",
       "      <td>242.691902</td>\n",
       "      <td>246.197885</td>\n",
       "      <td>2</td>\n",
       "      <td>7</td>\n",
       "      <td>1</td>\n",
       "      <td>car_horn</td>\n",
       "    </tr>\n",
       "    <tr>\n",
       "      <th>8730</th>\n",
       "      <td>99812-1-5-0.wav</td>\n",
       "      <td>99812</td>\n",
       "      <td>253.209850</td>\n",
       "      <td>255.741948</td>\n",
       "      <td>2</td>\n",
       "      <td>7</td>\n",
       "      <td>1</td>\n",
       "      <td>car_horn</td>\n",
       "    </tr>\n",
       "    <tr>\n",
       "      <th>8731</th>\n",
       "      <td>99812-1-6-0.wav</td>\n",
       "      <td>99812</td>\n",
       "      <td>332.289233</td>\n",
       "      <td>334.821332</td>\n",
       "      <td>2</td>\n",
       "      <td>7</td>\n",
       "      <td>1</td>\n",
       "      <td>car_horn</td>\n",
       "    </tr>\n",
       "  </tbody>\n",
       "</table>\n",
       "<p>8732 rows × 8 columns</p>\n",
       "</div>"
      ],
      "text/plain": [
       "         slice_file_name    fsID       start         end  salience  fold  \\\n",
       "0       100032-3-0-0.wav  100032    0.000000    0.317551         1     5   \n",
       "1     100263-2-0-117.wav  100263   58.500000   62.500000         1     5   \n",
       "2     100263-2-0-121.wav  100263   60.500000   64.500000         1     5   \n",
       "3     100263-2-0-126.wav  100263   63.000000   67.000000         1     5   \n",
       "4     100263-2-0-137.wav  100263   68.500000   72.500000         1     5   \n",
       "...                  ...     ...         ...         ...       ...   ...   \n",
       "8727     99812-1-2-0.wav   99812  159.522205  163.522205         2     7   \n",
       "8728     99812-1-3-0.wav   99812  181.142431  183.284976         2     7   \n",
       "8729     99812-1-4-0.wav   99812  242.691902  246.197885         2     7   \n",
       "8730     99812-1-5-0.wav   99812  253.209850  255.741948         2     7   \n",
       "8731     99812-1-6-0.wav   99812  332.289233  334.821332         2     7   \n",
       "\n",
       "      classID             class  \n",
       "0           3          dog_bark  \n",
       "1           2  children_playing  \n",
       "2           2  children_playing  \n",
       "3           2  children_playing  \n",
       "4           2  children_playing  \n",
       "...       ...               ...  \n",
       "8727        1          car_horn  \n",
       "8728        1          car_horn  \n",
       "8729        1          car_horn  \n",
       "8730        1          car_horn  \n",
       "8731        1          car_horn  \n",
       "\n",
       "[8732 rows x 8 columns]"
      ]
     },
     "execution_count": 9,
     "metadata": {},
     "output_type": "execute_result"
    }
   ],
   "source": [
    "metadata"
   ]
  },
  {
   "cell_type": "code",
   "execution_count": 12,
   "metadata": {},
   "outputs": [
    {
     "name": "stderr",
     "output_type": "stream",
     "text": [
      "3555it [06:38, 10.81it/s]C:\\Users\\Lenovo\\anaconda3\\lib\\site-packages\\librosa\\core\\spectrum.py:222: UserWarning: n_fft=2048 is too small for input signal of length=1323\n",
      "  warnings.warn(\n",
      "8326it [15:15, 14.02it/s]C:\\Users\\Lenovo\\anaconda3\\lib\\site-packages\\librosa\\core\\spectrum.py:222: UserWarning: n_fft=2048 is too small for input signal of length=1103\n",
      "  warnings.warn(\n",
      "C:\\Users\\Lenovo\\anaconda3\\lib\\site-packages\\librosa\\core\\spectrum.py:222: UserWarning: n_fft=2048 is too small for input signal of length=1523\n",
      "  warnings.warn(\n",
      "8732it [15:52,  9.17it/s]\n"
     ]
    }
   ],
   "source": [
    "features = []\n",
    "for index, data in tqdm(metadata.iterrows()):\n",
    "    file_name = os.path.join(os.path.abspath(file_path),\"fold\" + str(data[\"fold\"]) + \"/\",str(data[\"slice_file_name\"]))\n",
    "    mfcc_scaled = feature_extractor(file_name)\n",
    "    target = data[\"class\"]\n",
    "    features.append([mfcc_scaled,target])\n",
    "    "
   ]
  },
  {
   "cell_type": "code",
   "execution_count": 13,
   "metadata": {},
   "outputs": [],
   "source": [
    "features_df = pd.DataFrame(features, columns = [\"features\",\"target\"])"
   ]
  },
  {
   "cell_type": "code",
   "execution_count": 52,
   "metadata": {},
   "outputs": [],
   "source": [
    "X = np.array(features_df[\"features\"].to_list())\n",
    "y = np.array(features_df[\"target\"].to_list())"
   ]
  },
  {
   "cell_type": "code",
   "execution_count": 53,
   "metadata": {},
   "outputs": [
    {
     "data": {
      "text/plain": [
       "'children_playing'"
      ]
     },
     "execution_count": 53,
     "metadata": {},
     "output_type": "execute_result"
    }
   ],
   "source": [
    "enc = LabelEncoder()"
   ]
  },
  {
   "cell_type": "code",
   "execution_count": 54,
   "metadata": {},
   "outputs": [],
   "source": [
    "target_classes = enc.fit_transform(y)"
   ]
  },
  {
   "cell_type": "code",
   "execution_count": 57,
   "metadata": {},
   "outputs": [],
   "source": [
    "y = np.array(pd.get_dummies(features_df[\"target\"]))"
   ]
  },
  {
   "cell_type": "code",
   "execution_count": 31,
   "metadata": {},
   "outputs": [],
   "source": [
    "X_train,X_test,y_train,y_test = train_test_split(X,y,stratify = y,random_state = 666,test_size = 0.20)"
   ]
  },
  {
   "cell_type": "code",
   "execution_count": 99,
   "metadata": {},
   "outputs": [
    {
     "data": {
      "text/plain": [
       "(8732, 40)"
      ]
     },
     "execution_count": 99,
     "metadata": {},
     "output_type": "execute_result"
    }
   ],
   "source": [
    "X.shape"
   ]
  },
  {
   "cell_type": "code",
   "execution_count": 121,
   "metadata": {},
   "outputs": [],
   "source": [
    "model = Sequential()"
   ]
  },
  {
   "cell_type": "code",
   "execution_count": 122,
   "metadata": {},
   "outputs": [],
   "source": [
    "model.add(Dense(100,input_shape = (40,)))\n",
    "model.add(Activation(\"relu\"))\n",
    "model.add(Dropout(0.3))\n",
    "\n",
    "model.add(Dense(300))\n",
    "model.add(Activation(\"relu\"))\n",
    "model.add(Dropout(0.3))\n",
    "\n",
    "model.add(Dense(100))\n",
    "model.add(Activation(\"relu\"))\n",
    "model.add(Dropout(0.3))\n",
    "\n",
    "model.add(Dense(10))\n",
    "model.add(Activation(\"softmax\"))\n",
    "\n"
   ]
  },
  {
   "cell_type": "code",
   "execution_count": 123,
   "metadata": {},
   "outputs": [
    {
     "name": "stdout",
     "output_type": "stream",
     "text": [
      "Model: \"sequential_9\"\n",
      "_________________________________________________________________\n",
      "Layer (type)                 Output Shape              Param #   \n",
      "=================================================================\n",
      "dense_52 (Dense)             (None, 100)               4100      \n",
      "_________________________________________________________________\n",
      "activation_48 (Activation)   (None, 100)               0         \n",
      "_________________________________________________________________\n",
      "dropout_36 (Dropout)         (None, 100)               0         \n",
      "_________________________________________________________________\n",
      "dense_53 (Dense)             (None, 300)               30300     \n",
      "_________________________________________________________________\n",
      "activation_49 (Activation)   (None, 300)               0         \n",
      "_________________________________________________________________\n",
      "dropout_37 (Dropout)         (None, 300)               0         \n",
      "_________________________________________________________________\n",
      "dense_54 (Dense)             (None, 100)               30100     \n",
      "_________________________________________________________________\n",
      "activation_50 (Activation)   (None, 100)               0         \n",
      "_________________________________________________________________\n",
      "dropout_38 (Dropout)         (None, 100)               0         \n",
      "_________________________________________________________________\n",
      "dense_55 (Dense)             (None, 10)                1010      \n",
      "_________________________________________________________________\n",
      "activation_51 (Activation)   (None, 10)                0         \n",
      "=================================================================\n",
      "Total params: 65,510\n",
      "Trainable params: 65,510\n",
      "Non-trainable params: 0\n",
      "_________________________________________________________________\n"
     ]
    }
   ],
   "source": [
    "model.summary()"
   ]
  },
  {
   "cell_type": "code",
   "execution_count": 124,
   "metadata": {},
   "outputs": [],
   "source": [
    "model.compile(loss = \"categorical_crossentropy\",metrics = [\"accuracy\"],optimizer = \"adam\")"
   ]
  },
  {
   "cell_type": "code",
   "execution_count": 125,
   "metadata": {},
   "outputs": [
    {
     "name": "stdout",
     "output_type": "stream",
     "text": [
      "Epoch 1/100\n",
      "110/110 [==============================] - 1s 5ms/step - loss: 11.8922 - accuracy: 0.1087 - val_loss: 2.2704 - val_accuracy: 0.1385\n",
      "Epoch 2/100\n",
      "110/110 [==============================] - 0s 4ms/step - loss: 2.3006 - accuracy: 0.1483 - val_loss: 2.2198 - val_accuracy: 0.1608\n",
      "Epoch 3/100\n",
      "110/110 [==============================] - 0s 4ms/step - loss: 2.2334 - accuracy: 0.1624 - val_loss: 2.1215 - val_accuracy: 0.2078\n",
      "Epoch 4/100\n",
      "110/110 [==============================] - 0s 4ms/step - loss: 2.1627 - accuracy: 0.1788 - val_loss: 2.0699 - val_accuracy: 0.2261\n",
      "Epoch 5/100\n",
      "110/110 [==============================] - 0s 4ms/step - loss: 2.1527 - accuracy: 0.1858 - val_loss: 2.0639 - val_accuracy: 0.2295\n",
      "Epoch 6/100\n",
      "110/110 [==============================] - 0s 4ms/step - loss: 2.1115 - accuracy: 0.2124 - val_loss: 2.0254 - val_accuracy: 0.2410\n",
      "Epoch 7/100\n",
      "110/110 [==============================] - 0s 4ms/step - loss: 2.0671 - accuracy: 0.2297 - val_loss: 1.9632 - val_accuracy: 0.2679\n",
      "Epoch 8/100\n",
      "110/110 [==============================] - 0s 4ms/step - loss: 2.0338 - accuracy: 0.2325 - val_loss: 1.9378 - val_accuracy: 0.2948\n",
      "Epoch 9/100\n",
      "110/110 [==============================] - 0s 4ms/step - loss: 1.9978 - accuracy: 0.2609 - val_loss: 1.8852 - val_accuracy: 0.3205\n",
      "Epoch 10/100\n",
      "110/110 [==============================] - 0s 4ms/step - loss: 1.9629 - accuracy: 0.2793 - val_loss: 1.8761 - val_accuracy: 0.3194\n",
      "Epoch 11/100\n",
      "110/110 [==============================] - 0s 4ms/step - loss: 1.9366 - accuracy: 0.2804 - val_loss: 1.8430 - val_accuracy: 0.3515\n",
      "Epoch 12/100\n",
      "110/110 [==============================] - 0s 4ms/step - loss: 1.9001 - accuracy: 0.3097 - val_loss: 1.7786 - val_accuracy: 0.3537\n",
      "Epoch 13/100\n",
      "110/110 [==============================] - 0s 4ms/step - loss: 1.8624 - accuracy: 0.3205 - val_loss: 1.6967 - val_accuracy: 0.3915\n",
      "Epoch 14/100\n",
      "110/110 [==============================] - 0s 4ms/step - loss: 1.7502 - accuracy: 0.3621 - val_loss: 1.5659 - val_accuracy: 0.4373\n",
      "Epoch 15/100\n",
      "110/110 [==============================] - 0s 4ms/step - loss: 1.6454 - accuracy: 0.3971 - val_loss: 1.4550 - val_accuracy: 0.4843\n",
      "Epoch 16/100\n",
      "110/110 [==============================] - 0s 4ms/step - loss: 1.6049 - accuracy: 0.4137 - val_loss: 1.4069 - val_accuracy: 0.5203\n",
      "Epoch 17/100\n",
      "110/110 [==============================] - 0s 4ms/step - loss: 1.5269 - accuracy: 0.4534 - val_loss: 1.3604 - val_accuracy: 0.5192\n",
      "Epoch 18/100\n",
      "110/110 [==============================] - 0s 4ms/step - loss: 1.5043 - accuracy: 0.4668 - val_loss: 1.2535 - val_accuracy: 0.5736\n",
      "Epoch 19/100\n",
      "110/110 [==============================] - 0s 4ms/step - loss: 1.4338 - accuracy: 0.5045 - val_loss: 1.2000 - val_accuracy: 0.5856\n",
      "Epoch 20/100\n",
      "110/110 [==============================] - 0s 4ms/step - loss: 1.3406 - accuracy: 0.5211 - val_loss: 1.1618 - val_accuracy: 0.5993\n",
      "Epoch 21/100\n",
      "110/110 [==============================] - 0s 4ms/step - loss: 1.3188 - accuracy: 0.5448 - val_loss: 1.1145 - val_accuracy: 0.6153\n",
      "Epoch 22/100\n",
      "110/110 [==============================] - 0s 4ms/step - loss: 1.2803 - accuracy: 0.5635 - val_loss: 1.0636 - val_accuracy: 0.6365\n",
      "Epoch 23/100\n",
      "110/110 [==============================] - 0s 4ms/step - loss: 1.1875 - accuracy: 0.5879 - val_loss: 1.0220 - val_accuracy: 0.6686\n",
      "Epoch 24/100\n",
      "110/110 [==============================] - 0s 4ms/step - loss: 1.1400 - accuracy: 0.6149 - val_loss: 0.9922 - val_accuracy: 0.6726\n",
      "Epoch 25/100\n",
      "110/110 [==============================] - 0s 4ms/step - loss: 1.0979 - accuracy: 0.6204 - val_loss: 0.9642 - val_accuracy: 0.6772\n",
      "Epoch 26/100\n",
      "110/110 [==============================] - 0s 4ms/step - loss: 1.0782 - accuracy: 0.6384 - val_loss: 0.9178 - val_accuracy: 0.7075\n",
      "Epoch 27/100\n",
      "110/110 [==============================] - 0s 4ms/step - loss: 1.0761 - accuracy: 0.6363 - val_loss: 0.8796 - val_accuracy: 0.7086\n",
      "Epoch 28/100\n",
      "110/110 [==============================] - 0s 4ms/step - loss: 1.0099 - accuracy: 0.6597 - val_loss: 0.8564 - val_accuracy: 0.7207\n",
      "Epoch 29/100\n",
      "110/110 [==============================] - 0s 4ms/step - loss: 0.9796 - accuracy: 0.6630 - val_loss: 0.8620 - val_accuracy: 0.7172\n",
      "Epoch 30/100\n",
      "110/110 [==============================] - 0s 4ms/step - loss: 0.9398 - accuracy: 0.6787 - val_loss: 0.8216 - val_accuracy: 0.7315\n",
      "Epoch 31/100\n",
      "110/110 [==============================] - 0s 3ms/step - loss: 0.9316 - accuracy: 0.6767 - val_loss: 0.8049 - val_accuracy: 0.7390\n",
      "Epoch 32/100\n",
      "110/110 [==============================] - 0s 4ms/step - loss: 0.9005 - accuracy: 0.6912 - val_loss: 0.7705 - val_accuracy: 0.7516\n",
      "Epoch 33/100\n",
      "110/110 [==============================] - 0s 4ms/step - loss: 0.8679 - accuracy: 0.7002 - val_loss: 0.7511 - val_accuracy: 0.7602\n",
      "Epoch 34/100\n",
      "110/110 [==============================] - 0s 4ms/step - loss: 0.8521 - accuracy: 0.7105 - val_loss: 0.7401 - val_accuracy: 0.7705\n",
      "Epoch 35/100\n",
      "110/110 [==============================] - 0s 4ms/step - loss: 0.8720 - accuracy: 0.7109 - val_loss: 0.7138 - val_accuracy: 0.7670\n",
      "Epoch 36/100\n",
      "110/110 [==============================] - 0s 4ms/step - loss: 0.8234 - accuracy: 0.7135 - val_loss: 0.6974 - val_accuracy: 0.7882\n",
      "Epoch 37/100\n",
      "110/110 [==============================] - 0s 4ms/step - loss: 0.7877 - accuracy: 0.7278 - val_loss: 0.6916 - val_accuracy: 0.7853\n",
      "Epoch 38/100\n",
      "110/110 [==============================] - 0s 3ms/step - loss: 0.8008 - accuracy: 0.7281 - val_loss: 0.6838 - val_accuracy: 0.7790\n",
      "Epoch 39/100\n",
      "110/110 [==============================] - 0s 4ms/step - loss: 0.7653 - accuracy: 0.7322 - val_loss: 0.6580 - val_accuracy: 0.7882\n",
      "Epoch 40/100\n",
      "110/110 [==============================] - 0s 4ms/step - loss: 0.7418 - accuracy: 0.7411 - val_loss: 0.6762 - val_accuracy: 0.7916\n",
      "Epoch 41/100\n",
      "110/110 [==============================] - 0s 4ms/step - loss: 0.7231 - accuracy: 0.7487 - val_loss: 0.6277 - val_accuracy: 0.7985\n",
      "Epoch 42/100\n",
      "110/110 [==============================] - 0s 4ms/step - loss: 0.7122 - accuracy: 0.7519 - val_loss: 0.6210 - val_accuracy: 0.8065\n",
      "Epoch 43/100\n",
      "110/110 [==============================] - 0s 4ms/step - loss: 0.7188 - accuracy: 0.7586 - val_loss: 0.6169 - val_accuracy: 0.8060\n",
      "Epoch 44/100\n",
      "110/110 [==============================] - 0s 4ms/step - loss: 0.6846 - accuracy: 0.7623 - val_loss: 0.6110 - val_accuracy: 0.8117\n",
      "Epoch 45/100\n",
      "110/110 [==============================] - 0s 4ms/step - loss: 0.6909 - accuracy: 0.7689 - val_loss: 0.6188 - val_accuracy: 0.8122\n",
      "Epoch 46/100\n",
      "110/110 [==============================] - 0s 4ms/step - loss: 0.6980 - accuracy: 0.7510 - val_loss: 0.5833 - val_accuracy: 0.8065\n",
      "Epoch 47/100\n",
      "110/110 [==============================] - 0s 4ms/step - loss: 0.6700 - accuracy: 0.7711 - val_loss: 0.5804 - val_accuracy: 0.8203\n",
      "Epoch 48/100\n",
      "110/110 [==============================] - 0s 4ms/step - loss: 0.6757 - accuracy: 0.7647 - val_loss: 0.5822 - val_accuracy: 0.8231\n",
      "Epoch 49/100\n",
      "110/110 [==============================] - 0s 4ms/step - loss: 0.6481 - accuracy: 0.7729 - val_loss: 0.5579 - val_accuracy: 0.8243\n",
      "Epoch 50/100\n",
      "110/110 [==============================] - 0s 4ms/step - loss: 0.6267 - accuracy: 0.7837 - val_loss: 0.5648 - val_accuracy: 0.8220\n",
      "Epoch 51/100\n",
      "110/110 [==============================] - 0s 4ms/step - loss: 0.6231 - accuracy: 0.7871 - val_loss: 0.5357 - val_accuracy: 0.8334\n",
      "Epoch 52/100\n",
      "110/110 [==============================] - 0s 4ms/step - loss: 0.6341 - accuracy: 0.7819 - val_loss: 0.5465 - val_accuracy: 0.8254\n",
      "Epoch 53/100\n",
      "110/110 [==============================] - 0s 4ms/step - loss: 0.6357 - accuracy: 0.7929 - val_loss: 0.5569 - val_accuracy: 0.8231\n",
      "Epoch 54/100\n",
      "110/110 [==============================] - 0s 4ms/step - loss: 0.6361 - accuracy: 0.7837 - val_loss: 0.5267 - val_accuracy: 0.8414\n",
      "Epoch 55/100\n",
      "110/110 [==============================] - 0s 4ms/step - loss: 0.5991 - accuracy: 0.7933 - val_loss: 0.5279 - val_accuracy: 0.8294\n",
      "Epoch 56/100\n",
      "110/110 [==============================] - 0s 4ms/step - loss: 0.5918 - accuracy: 0.7975 - val_loss: 0.5209 - val_accuracy: 0.8397\n",
      "Epoch 57/100\n",
      "110/110 [==============================] - 0s 3ms/step - loss: 0.5797 - accuracy: 0.8011 - val_loss: 0.5217 - val_accuracy: 0.8369\n",
      "Epoch 58/100\n",
      "110/110 [==============================] - 0s 3ms/step - loss: 0.5980 - accuracy: 0.7911 - val_loss: 0.5187 - val_accuracy: 0.8426\n",
      "Epoch 59/100\n",
      "110/110 [==============================] - 0s 4ms/step - loss: 0.5855 - accuracy: 0.8099 - val_loss: 0.5145 - val_accuracy: 0.8460\n",
      "Epoch 60/100\n",
      "110/110 [==============================] - 0s 4ms/step - loss: 0.5879 - accuracy: 0.8048 - val_loss: 0.5107 - val_accuracy: 0.8409\n",
      "Epoch 61/100\n",
      "110/110 [==============================] - 0s 4ms/step - loss: 0.5756 - accuracy: 0.7974 - val_loss: 0.4870 - val_accuracy: 0.8495\n",
      "Epoch 62/100\n",
      "110/110 [==============================] - 0s 4ms/step - loss: 0.5681 - accuracy: 0.8089 - val_loss: 0.5048 - val_accuracy: 0.8426\n",
      "Epoch 63/100\n",
      "110/110 [==============================] - 0s 4ms/step - loss: 0.5860 - accuracy: 0.8003 - val_loss: 0.5020 - val_accuracy: 0.8529\n",
      "Epoch 64/100\n",
      "110/110 [==============================] - 0s 4ms/step - loss: 0.5295 - accuracy: 0.8159 - val_loss: 0.5003 - val_accuracy: 0.8454\n",
      "Epoch 65/100\n",
      "110/110 [==============================] - 0s 4ms/step - loss: 0.5573 - accuracy: 0.8059 - val_loss: 0.5058 - val_accuracy: 0.8460\n",
      "Epoch 66/100\n",
      "110/110 [==============================] - 0s 4ms/step - loss: 0.5298 - accuracy: 0.8221 - val_loss: 0.4987 - val_accuracy: 0.8443\n",
      "Epoch 67/100\n",
      "110/110 [==============================] - 0s 4ms/step - loss: 0.5281 - accuracy: 0.8209 - val_loss: 0.4803 - val_accuracy: 0.8517\n",
      "Epoch 68/100\n",
      "110/110 [==============================] - 0s 4ms/step - loss: 0.5364 - accuracy: 0.8185 - val_loss: 0.4734 - val_accuracy: 0.8512\n",
      "Epoch 69/100\n",
      "110/110 [==============================] - 0s 4ms/step - loss: 0.5575 - accuracy: 0.8030 - val_loss: 0.4898 - val_accuracy: 0.8535\n",
      "Epoch 70/100\n",
      "110/110 [==============================] - 0s 3ms/step - loss: 0.5365 - accuracy: 0.8216 - val_loss: 0.4767 - val_accuracy: 0.8489\n",
      "Epoch 71/100\n",
      "110/110 [==============================] - 0s 4ms/step - loss: 0.5284 - accuracy: 0.8108 - val_loss: 0.4815 - val_accuracy: 0.8535\n",
      "Epoch 72/100\n",
      "110/110 [==============================] - 0s 4ms/step - loss: 0.5241 - accuracy: 0.8255 - val_loss: 0.4656 - val_accuracy: 0.8477\n",
      "Epoch 73/100\n",
      "110/110 [==============================] - 0s 4ms/step - loss: 0.5003 - accuracy: 0.8358 - val_loss: 0.4507 - val_accuracy: 0.8609\n",
      "Epoch 74/100\n",
      "110/110 [==============================] - 0s 4ms/step - loss: 0.5279 - accuracy: 0.8206 - val_loss: 0.4525 - val_accuracy: 0.8580\n",
      "Epoch 75/100\n",
      "110/110 [==============================] - 0s 4ms/step - loss: 0.5081 - accuracy: 0.8225 - val_loss: 0.4619 - val_accuracy: 0.8540\n",
      "Epoch 76/100\n",
      "110/110 [==============================] - 0s 4ms/step - loss: 0.4973 - accuracy: 0.8266 - val_loss: 0.4598 - val_accuracy: 0.8580\n",
      "Epoch 77/100\n",
      "110/110 [==============================] - 0s 4ms/step - loss: 0.4972 - accuracy: 0.8335 - val_loss: 0.4464 - val_accuracy: 0.8603\n",
      "Epoch 78/100\n",
      "110/110 [==============================] - 0s 4ms/step - loss: 0.4729 - accuracy: 0.8402 - val_loss: 0.4417 - val_accuracy: 0.8638\n",
      "Epoch 79/100\n",
      "110/110 [==============================] - 0s 4ms/step - loss: 0.4828 - accuracy: 0.8368 - val_loss: 0.4564 - val_accuracy: 0.8535\n",
      "Epoch 80/100\n",
      "110/110 [==============================] - 0s 4ms/step - loss: 0.5134 - accuracy: 0.8250 - val_loss: 0.4331 - val_accuracy: 0.8586\n",
      "Epoch 81/100\n",
      "110/110 [==============================] - 0s 4ms/step - loss: 0.4744 - accuracy: 0.8372 - val_loss: 0.4394 - val_accuracy: 0.8620\n",
      "Epoch 82/100\n",
      "110/110 [==============================] - 0s 4ms/step - loss: 0.4873 - accuracy: 0.8345 - val_loss: 0.4348 - val_accuracy: 0.8655\n",
      "Epoch 83/100\n",
      "110/110 [==============================] - 0s 4ms/step - loss: 0.4984 - accuracy: 0.8322 - val_loss: 0.4362 - val_accuracy: 0.8666\n",
      "Epoch 84/100\n",
      "110/110 [==============================] - 0s 4ms/step - loss: 0.4664 - accuracy: 0.8400 - val_loss: 0.4272 - val_accuracy: 0.8649\n",
      "Epoch 85/100\n",
      "110/110 [==============================] - 0s 4ms/step - loss: 0.4930 - accuracy: 0.8346 - val_loss: 0.4171 - val_accuracy: 0.8672\n",
      "Epoch 86/100\n",
      "110/110 [==============================] - 0s 3ms/step - loss: 0.4689 - accuracy: 0.8402 - val_loss: 0.4282 - val_accuracy: 0.8638\n",
      "Epoch 87/100\n",
      "110/110 [==============================] - 0s 4ms/step - loss: 0.4615 - accuracy: 0.8395 - val_loss: 0.4193 - val_accuracy: 0.8661\n",
      "Epoch 88/100\n",
      "110/110 [==============================] - 0s 4ms/step - loss: 0.4766 - accuracy: 0.8302 - val_loss: 0.4296 - val_accuracy: 0.8632\n",
      "Epoch 89/100\n",
      "110/110 [==============================] - 0s 4ms/step - loss: 0.4271 - accuracy: 0.8537 - val_loss: 0.4085 - val_accuracy: 0.8729\n",
      "Epoch 90/100\n",
      "110/110 [==============================] - 0s 4ms/step - loss: 0.4396 - accuracy: 0.8428 - val_loss: 0.4291 - val_accuracy: 0.8603\n",
      "Epoch 91/100\n",
      "110/110 [==============================] - 0s 4ms/step - loss: 0.4286 - accuracy: 0.8440 - val_loss: 0.4189 - val_accuracy: 0.8706\n",
      "Epoch 92/100\n",
      "110/110 [==============================] - 0s 4ms/step - loss: 0.4598 - accuracy: 0.8372 - val_loss: 0.4153 - val_accuracy: 0.8775\n",
      "Epoch 93/100\n",
      "110/110 [==============================] - 0s 4ms/step - loss: 0.4865 - accuracy: 0.8374 - val_loss: 0.4101 - val_accuracy: 0.8729\n",
      "Epoch 94/100\n",
      "110/110 [==============================] - 0s 4ms/step - loss: 0.4265 - accuracy: 0.8514 - val_loss: 0.4290 - val_accuracy: 0.8655\n",
      "Epoch 95/100\n",
      "110/110 [==============================] - 0s 4ms/step - loss: 0.4519 - accuracy: 0.8497 - val_loss: 0.4114 - val_accuracy: 0.8815\n",
      "Epoch 96/100\n",
      "110/110 [==============================] - 0s 4ms/step - loss: 0.4538 - accuracy: 0.8540 - val_loss: 0.4071 - val_accuracy: 0.8746\n",
      "Epoch 97/100\n",
      "110/110 [==============================] - 0s 4ms/step - loss: 0.4479 - accuracy: 0.8500 - val_loss: 0.3952 - val_accuracy: 0.8890\n",
      "Epoch 98/100\n",
      "110/110 [==============================] - 0s 4ms/step - loss: 0.4868 - accuracy: 0.8463 - val_loss: 0.4033 - val_accuracy: 0.8758\n",
      "Epoch 99/100\n",
      "110/110 [==============================] - 0s 4ms/step - loss: 0.4329 - accuracy: 0.8504 - val_loss: 0.3994 - val_accuracy: 0.8775\n",
      "Epoch 100/100\n",
      "110/110 [==============================] - 0s 4ms/step - loss: 0.4347 - accuracy: 0.8539 - val_loss: 0.4027 - val_accuracy: 0.8804\n"
     ]
    },
    {
     "data": {
      "text/plain": [
       "<tensorflow.python.keras.callbacks.History at 0x26c1902e5e0>"
      ]
     },
     "execution_count": 125,
     "metadata": {},
     "output_type": "execute_result"
    }
   ],
   "source": [
    "model.fit(X_train,y_train,batch_size = 64,epochs = 100,validation_data = (X_test,y_test))"
   ]
  },
  {
   "cell_type": "code",
   "execution_count": 71,
   "metadata": {},
   "outputs": [],
   "source": [
    "test_path = \"F:/Git_projects/audio_classification/UrbanSound8K/344-3-4-0.wav\"\n",
    "temp =feature_extractor(test_path)\n",
    "temp = temp.reshape(1,-1)"
   ]
  },
  {
   "cell_type": "code",
   "execution_count": 143,
   "metadata": {},
   "outputs": [
    {
     "data": {
      "text/plain": [
       "array(['dog_bark'], dtype='<U16')"
      ]
     },
     "execution_count": 143,
     "metadata": {},
     "output_type": "execute_result"
    }
   ],
   "source": [
    "enc.inverse_transform(model.predict_classes(temp))"
   ]
  }
 ],
 "metadata": {
  "kernelspec": {
   "display_name": "Python 3",
   "language": "python",
   "name": "python3"
  },
  "language_info": {
   "codemirror_mode": {
    "name": "ipython",
    "version": 3
   },
   "file_extension": ".py",
   "mimetype": "text/x-python",
   "name": "python",
   "nbconvert_exporter": "python",
   "pygments_lexer": "ipython3",
   "version": "3.8.5"
  }
 },
 "nbformat": 4,
 "nbformat_minor": 4
}
